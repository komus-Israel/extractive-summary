{
 "cells": [
  {
   "cell_type": "code",
   "execution_count": 1,
   "metadata": {},
   "outputs": [],
   "source": [
    "import nltk\n",
    "import re\n",
    "import numpy as np\n",
    "from nltk.corpus import stopwords\n",
    "from nltk import sent_tokenize, word_tokenize\n",
    "from sklearn.feature_extraction.text import TfidfVectorizer\n",
    "from nltk.stem import PorterStemmer\n",
    "from nltk import pos_tag\n",
    "from nltk import WordNetLemmatizer\n",
    "from PyPDF2 import PdfFileWriter\n",
    "import pickle"
   ]
  },
  {
   "cell_type": "code",
   "execution_count": 35,
   "metadata": {},
   "outputs": [],
   "source": [
    "with open('cal_thres.txt', 'r') as file:\n",
    "    doc_test = file.read()"
   ]
  },
  {
   "cell_type": "markdown",
   "metadata": {},
   "source": [
    "#### Text preprocessing"
   ]
  },
  {
   "cell_type": "markdown",
   "metadata": {},
   "source": [
    "1. Removal of special characters"
   ]
  },
  {
   "cell_type": "code",
   "execution_count": 3,
   "metadata": {},
   "outputs": [],
   "source": [
    "doc = doc.replace('.', '. ')\n",
    "tokenize_sent = sent_tokenize(doc)"
   ]
  },
  {
   "cell_type": "markdown",
   "metadata": {},
   "source": [
    "def regex(doc):\n",
    "    regex = r'[^a-zA-Z0-9\\s]'\n",
    "    text_ = [re.sub(regex, '', i) for i in tokenize_sent]\n",
    "    return text_"
   ]
  },
  {
   "cell_type": "code",
   "execution_count": 75,
   "metadata": {},
   "outputs": [],
   "source": [
    "def regex(doc):\n",
    "    regex = r'[^a-zA-Z0-9\\s]'\n",
    "    text_ = [re.sub(regex, '', i) for i in doc]\n",
    "    return text_"
   ]
  },
  {
   "cell_type": "code",
   "execution_count": 37,
   "metadata": {},
   "outputs": [],
   "source": [
    "def text_preprocessing(text):\n",
    "    tokens = [word for sent in sent_tokenize(text) for word in word_tokenize(sent)]\n",
    "    tokens = [word.lower() for word in tokens]\n",
    "    new_tokens = [i for i in tokens if i not in stopwords.words('english')]\n",
    "    tokens = [word for word in new_tokens if len(word) >= 3]\n",
    "    stemmer = PorterStemmer()\n",
    "\n",
    "    tokens = [stemmer.stem(word) for word in tokens]\n",
    "    \n",
    "    tagged_corpus = pos_tag(tokens)\n",
    "\n",
    "    Noun_tags = ['NN', 'NNP', 'NNPS', 'NNS']\n",
    "    verb_tags = ['VB', 'VBD', 'VBG', 'VBN', 'VBP', 'VBZ']\n",
    "    lemmatizer = WordNetLemmatizer()\n",
    "    \n",
    "    def prac_lemmatize(token, tag):\n",
    "        if tag in Noun_tags:\n",
    "            return lemmatizer.lemmatize(token, 'n')\n",
    "        elif tag in verb_tags:\n",
    "            return lemmatizer.lemmatize(token, 'v')\n",
    "        else:\n",
    "            return lemmatizer.lemmatize(token, 'n')\n",
    "    lemmatized_text = ' '.join([prac_lemmatize(token, tag) for token, tag in tagged_corpus])\n",
    "    \n",
    "    return lemmatized_text "
   ]
  },
  {
   "cell_type": "code",
   "execution_count": 30,
   "metadata": {},
   "outputs": [],
   "source": [
    "def summarize(text_):    \n",
    "    final_text = np.array([text_preprocessing(i) for i in text_])\n",
    "    vectorizer = TfidfVectorizer(strip_accents = 'unicode', norm = 'l2')\n",
    "\n",
    "    matrix = vectorizer.fit_transform(final_text).todense()\n",
    "\n",
    "    sent_score = matrix.sum(axis=1)\n",
    "\n",
    "    sent_score_total = sent_score.sum()\n",
    "\n",
    "    average = sent_score_total/sent_score.shape[0]\n",
    "\n",
    "    summary = []\n",
    "\n",
    "    for i in range(sent_score.shape[0]):\n",
    "        if sent_score[i] >= average:\n",
    "            summary.append(tokenize_sent[i])\n",
    "    \n",
    "    return ''.join(summary)"
   ]
  },
  {
   "cell_type": "code",
   "execution_count": null,
   "metadata": {},
   "outputs": [],
   "source": []
  },
  {
   "cell_type": "code",
   "execution_count": 100,
   "metadata": {},
   "outputs": [],
   "source": [
    "###Using the functions"
   ]
  },
  {
   "cell_type": "code",
   "execution_count": 101,
   "metadata": {},
   "outputs": [],
   "source": [
    "text = regex(doc)"
   ]
  },
  {
   "cell_type": "code",
   "execution_count": 102,
   "metadata": {},
   "outputs": [],
   "source": [
    "processed_text = [text_preprocessing(i) for i in text]"
   ]
  },
  {
   "cell_type": "code",
   "execution_count": null,
   "metadata": {},
   "outputs": [],
   "source": []
  },
  {
   "cell_type": "code",
   "execution_count": 90,
   "metadata": {},
   "outputs": [],
   "source": [
    "summarized_text = summarize(processed_text)"
   ]
  },
  {
   "cell_type": "code",
   "execution_count": 91,
   "metadata": {},
   "outputs": [
    {
     "data": {
      "text/plain": [
       "2054"
      ]
     },
     "execution_count": 91,
     "metadata": {},
     "output_type": "execute_result"
    }
   ],
   "source": [
    "len(summarized_text)"
   ]
  },
  {
   "cell_type": "code",
   "execution_count": 92,
   "metadata": {},
   "outputs": [
    {
     "data": {
      "text/plain": [
       "\"Needful to say, i can be very pragmatic in my thinking, introvert, inspiring and convincing\\n\\n#thinking style: this result shows that i'm more pragmatic in my thinking, offering logical and approachable way to solve issues and view situations beyond theories.one of my approach to issues that defines me as an Advocate is concrete steps to implementing solutions, which as an optimizer, I adopt in my thinking,finding ways to be more productive, efficient and organized.#team role test: For every time I get the chance to participate in a team work, I tend to discover I am able to express a good interpersonal skills and some basic soft skills, yet learning.It also show that I can commuunicate effectively and resolve conflict with team mates\\n\\n#team role pie chart: this chart shows that I'm more of an executive and innovator characterised by my eagerness to get the work organized and done.Also as the creative generator of a team, strong imagination and desire to be original defines me as an innovator also as an Advocate.Needful to say, i can be very pragmatic in my thinking, introvert, inspiring and convincing\\n\\n#thinking style: this result shows that i'm more pragmatic in my thinking, offering logical and approachable way to solve issues and view situations beyond theories.one of my approach to issues that defines me as an Advocate is concrete steps to implementing solutions, which as an optimizer, I adopt in my thinking,finding ways to be more productive, efficient and organized.#team role test: For every time I get the chance to participate in a team work, I tend to discover I am able to express a good interpersonal skills and some basic soft skills, yet learning.It also show that I can commuunicate effectively and resolve conflict with team mates\\n\\n#team role pie chart: this chart shows that I'm more of an executive and innovator characterised by my eagerness to get the work organized and done.Also as the creative generator of a team, strong imagination and desire to be original defines me as an innovator also as an Advocate.\""
      ]
     },
     "execution_count": 92,
     "metadata": {},
     "output_type": "execute_result"
    }
   ],
   "source": [
    "summarized_text"
   ]
  },
  {
   "cell_type": "markdown",
   "metadata": {},
   "source": [
    "with open('sum2.txt', 'w') as file:\n",
    "    file.write(summarized_text)"
   ]
  },
  {
   "cell_type": "markdown",
   "metadata": {},
   "source": [
    "### using with word document"
   ]
  },
  {
   "cell_type": "code",
   "execution_count": 7,
   "metadata": {},
   "outputs": [],
   "source": [
    "import docx"
   ]
  },
  {
   "cell_type": "code",
   "execution_count": 8,
   "metadata": {},
   "outputs": [],
   "source": [
    "doc = docx.Document('python TBN.docx')"
   ]
  },
  {
   "cell_type": "code",
   "execution_count": 14,
   "metadata": {},
   "outputs": [
    {
     "data": {
      "text/plain": [
       "'be sure it is what you want because in the long run, you’ll have to get and keep yourself motivated. It is, but it wont present itself easy to you.'"
      ]
     },
     "execution_count": 14,
     "metadata": {},
     "output_type": "execute_result"
    }
   ],
   "source": [
    "doc.paragraphs[10].text"
   ]
  },
  {
   "cell_type": "code",
   "execution_count": 63,
   "metadata": {},
   "outputs": [],
   "source": [
    "w = [i.text for i in doc.paragraphs]"
   ]
  },
  {
   "cell_type": "code",
   "execution_count": 64,
   "metadata": {},
   "outputs": [],
   "source": [
    "a = ''.join(w)\n",
    "tokenize_sent = sent_tokenize(a)"
   ]
  },
  {
   "cell_type": "code",
   "execution_count": 67,
   "metadata": {},
   "outputs": [
    {
     "data": {
      "text/plain": [
       "'Pythonis ab high level programming language. A the name hight level implies, it can be written in a human readable form. It uses syntax that an human can understandit is general purpose. This is literal. It serves a lot of purposes. Not all languages are high level nor general purpose. It is a simple language. And im basically not talking about coding but the ecosystem of the language.If you’re an aspiring developer, it is important that you know what you want. Be strict with it so as not to get distracted. Set goal plans and stick with it be sure it is what you want because in the long run, you’ll have to get and keep yourself motivated. It is, but it wont present itself easy to you.Thats just by the way. More sophisticatd modules will still be released. And it is one of the most sorted languagesWhat can we do with python:game development:\\twith blender, u can create cool game engines and gui and then run it with python. e.g pygameAndroid App:\\tu can use python to create android Apps. It is not really the best, so it is so uncommon. Kivy is an example of a module some developers use to create android AppDesktop App:\\tthis is really cool. There are some GUI tools that you can use to create desktop app. An example is Tkinter, pyQt5, kivyData:\\tData science, Data Mining, Machine Learning and artificial intelligence. This is really super cool. \\tAs general as the language is, it is the best so far for these. It some super cool module for assembling data and processing data.Tip: with Linux, you can easily create a text to speech system assistance with python. it’s not advisable but you can have fun with it. But to really enjoy, python has cool modules such as scipy, numpy, scikit learn and some othersmatplotlib: a  tool for image processing. U can represent your data graphically with this module. Data visualization. The types of data we’re having now adays are becoming complex. How will the data of the emotion of a bull dog look like? No matter how complex the data is, matplotlib is what u use.NLP: natural language processing…..oh my God. Python is coolDjango , flask and bottlewe just cant list it all.What can u be with python?Data scientist, system admistrator, web developer, software developer. Depends on what you’re learning the language for.If u must know, python still has a future especially in the area off machine learning, artificial intelligence, deep learning and so much  more.My advise, know what u want, and go for it.One of the powers of a language is not just tools, but a community for the language and availability of solutions in d language.Webapp, with django, flaskand bottle frame workpyQt5'"
      ]
     },
     "execution_count": 67,
     "metadata": {},
     "output_type": "execute_result"
    }
   ],
   "source": [
    "a"
   ]
  },
  {
   "cell_type": "code",
   "execution_count": 80,
   "metadata": {},
   "outputs": [],
   "source": [
    "t = regex(tokenize_sent)"
   ]
  },
  {
   "cell_type": "code",
   "execution_count": 81,
   "metadata": {},
   "outputs": [],
   "source": [
    "processed_text = [text_preprocessing(i) for i in t]"
   ]
  },
  {
   "cell_type": "code",
   "execution_count": 82,
   "metadata": {},
   "outputs": [
    {
     "data": {
      "text/plain": [
       "30"
      ]
     },
     "execution_count": 82,
     "metadata": {},
     "output_type": "execute_result"
    }
   ],
   "source": [
    "len(processed_text)"
   ]
  },
  {
   "cell_type": "code",
   "execution_count": 83,
   "metadata": {},
   "outputs": [],
   "source": [
    "summarized_text = summarize(processed_text)"
   ]
  },
  {
   "cell_type": "code",
   "execution_count": 84,
   "metadata": {},
   "outputs": [
    {
     "data": {
      "text/plain": [
       "'A the name hight level implies, it can be written in a human readable form.And im basically not talking about coding but the ecosystem of the language.If you’re an aspiring developer, it is important that you know what you want.Set goal plans and stick with it be sure it is what you want because in the long run, you’ll have to get and keep yourself motivated.And it is one of the most sorted languagesWhat can we do with python:game development:\\twith blender, u can create cool game engines and gui and then run it with python.Kivy is an example of a module some developers use to create android AppDesktop App:\\tthis is really cool.An example is Tkinter, pyQt5, kivyData:\\tData science, Data Mining, Machine Learning and artificial intelligence.It some super cool module for assembling data and processing data.Tip: with Linux, you can easily create a text to speech system assistance with python.But to really enjoy, python has cool modules such as scipy, numpy, scikit learn and some othersmatplotlib: a  tool for image processing.No matter how complex the data is, matplotlib is what u use.NLP: natural language processing…..oh my God.Python is coolDjango , flask and bottlewe just cant list it all.What can u be with python?Data scientist, system admistrator, web developer, software developer.Depends on what you’re learning the language for.If u must know, python still has a future especially in the area off machine learning, artificial intelligence, deep learning and so much  more.My advise, know what u want, and go for it.One of the powers of a language is not just tools, but a community for the language and availability of solutions in d language.Webapp, with django, flaskand bottle frame workpyQt5'"
      ]
     },
     "execution_count": 84,
     "metadata": {},
     "output_type": "execute_result"
    }
   ],
   "source": [
    "summarized_text"
   ]
  }
 ],
 "metadata": {
  "kernelspec": {
   "display_name": "Python 3",
   "language": "python",
   "name": "python3"
  },
  "language_info": {
   "codemirror_mode": {
    "name": "ipython",
    "version": 3
   },
   "file_extension": ".py",
   "mimetype": "text/x-python",
   "name": "python",
   "nbconvert_exporter": "python",
   "pygments_lexer": "ipython3",
   "version": "3.6.9"
  }
 },
 "nbformat": 4,
 "nbformat_minor": 4
}
