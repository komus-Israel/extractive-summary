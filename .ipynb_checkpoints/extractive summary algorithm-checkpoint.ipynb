{
 "cells": [
  {
   "cell_type": "markdown",
   "metadata": {},
   "source": [
    "## EXTRACTIVE SUMMARY"
   ]
  },
  {
   "cell_type": "markdown",
   "metadata": {},
   "source": [
    "There are basically two types of summary: extractive and abstractive\n",
    "\n",
    "\n",
    "**Extractive summary** is the type of summary that involves no paraphrasing. No usage of words or sentences outside the summary is used. \n",
    "\n",
    "**Abstractive summary** is the type of summary we use regularly in schools or whenever we need to summarize a document. synonyms, paraphrasing and usage of words or sentences to caputure the intent of the original words and sentences are used."
   ]
  },
  {
   "cell_type": "markdown",
   "metadata": {},
   "source": [
    "**How does a computer know which sentences are important to our document ?**\n",
    "\n",
    "**How does a computer understand our sentences to make summary out of it ?**"
   ]
  },
  {
   "cell_type": "markdown",
   "metadata": {},
   "source": [
    "Computers can be used for both type of summary. **Extractive summary** depends on sentence score while **abstractive summary** uses machine learning.\n",
    "\n",
    "\n",
    "***This notebook is a walkthrough with proper documentation of how to summarize documents using extractive summary***"
   ]
  },
  {
   "cell_type": "code",
   "execution_count": 2,
   "metadata": {},
   "outputs": [],
   "source": [
    "import nltk\n",
    "import re\n",
    "import numpy as np\n",
    "from nltk.corpus import stopwords # to obtain stopwords\n",
    "from nltk import sent_tokenize, word_tokenize # to tokenize sentences\n",
    "from sklearn.feature_extraction.text import TfidfVectorizer # to compute sentence score\n",
    "from nltk.stem import PorterStemmer # for stemming\n",
    "from nltk import pos_tag # for part of speech tagging\n",
    "from nltk import WordNetLemmatizer # for word lemmatization"
   ]
  },
  {
   "cell_type": "markdown",
   "metadata": {},
   "source": [
    "**I have a document in my directory that I'll use to perform the summary**"
   ]
  },
  {
   "cell_type": "code",
   "execution_count": 3,
   "metadata": {},
   "outputs": [],
   "source": [
    "with open('test result.txt', 'r') as file:\n",
    "    doc = file.read()"
   ]
  },
  {
   "cell_type": "markdown",
   "metadata": {},
   "source": [
    "**The files are read in form of a string. To get the best out of our document, it needs to be in the proper form for preprocessing: hence the need to tokenize our sentences.**\n",
    "\n",
    "*The document when it is read.....*"
   ]
  },
  {
   "cell_type": "code",
   "execution_count": 6,
   "metadata": {},
   "outputs": [
    {
     "name": "stdout",
     "output_type": "stream",
     "text": [
      "The document is read in a string: \n",
      "\n"
     ]
    },
    {
     "data": {
      "text/plain": [
       "\"# personality type: The test indicates that i'm an Advocate. I really agree with this considering my approach to life's situation and people. I look forward to providing solution to issues not for selfish purposes. Needful to say, I can be very pragmatic in my thinking, introvert, inspiring and convincing\\n\\n#thinking style: this result shows that i'm more pragmatic in my thinking, offering logical and approachable way to solve issues and view situations beyond theories.\\n\\n#communicative style: this result indicates that I'm suppoertive and cautious, but more supportive. Also I am reserved\\n\\n#Thinking style: the test result shows that i am an OPTIMIZER. one of my approach to issues that defines me as an Advocate is concrete steps to implementing solutions, which as an optimizer, I adopt in my thinking,finding ways to be more productive, efficient and organized.\\n\\n#team role test: For every time I get the chance to participate in a team work, I tend to discover I am able to express a good interpersonal skills and some basic soft skills, yet learning. It also show that I can commuunicate effectively and resolve conflict with team mates\\n\\n#team role pie chart: this chart shows that I'm more of an executive and innovator characterised by my eagerness to get the work organized and done. Also as the creative generator of a team, strong imagination and desire to be original defines me as an innovator also as an Advocate.\\n\\n#zodiac: This indicates that i am a jester. I'm Not particularly a Joker or Jester. well what I find intriguing about this is the how that I am casual, easy going.\\n\""
      ]
     },
     "execution_count": 6,
     "metadata": {},
     "output_type": "execute_result"
    }
   ],
   "source": [
    "print('The document is read in a string: ')\n",
    "print()\n",
    "doc"
   ]
  },
  {
   "cell_type": "markdown",
   "metadata": {},
   "source": [
    "### Step 1\n",
    "\n",
    "***Sentence tokenization***"
   ]
  },
  {
   "cell_type": "code",
   "execution_count": 7,
   "metadata": {},
   "outputs": [
    {
     "name": "stdout",
     "output_type": "stream",
     "text": [
      "[\"# personality type: The test indicates that i'm an Advocate.\", \"I really agree with this considering my approach to life's situation and people.\", 'I look forward to providing solution to issues not for selfish purposes.', \"Needful to say, I can be very pragmatic in my thinking, introvert, inspiring and convincing\\n\\n#thinking style: this result shows that i'm more pragmatic in my thinking, offering logical and approachable way to solve issues and view situations beyond theories.\", \"#communicative style: this result indicates that I'm suppoertive and cautious, but more supportive.\", 'Also I am reserved\\n\\n#Thinking style: the test result shows that i am an OPTIMIZER.', 'one of my approach to issues that defines me as an Advocate is concrete steps to implementing solutions, which as an optimizer, I adopt in my thinking,finding ways to be more productive, efficient and organized.', '#team role test: For every time I get the chance to participate in a team work, I tend to discover I am able to express a good interpersonal skills and some basic soft skills, yet learning.', \"It also show that I can commuunicate effectively and resolve conflict with team mates\\n\\n#team role pie chart: this chart shows that I'm more of an executive and innovator characterised by my eagerness to get the work organized and done.\", 'Also as the creative generator of a team, strong imagination and desire to be original defines me as an innovator also as an Advocate.', '#zodiac: This indicates that i am a jester.', \"I'm Not particularly a Joker or Jester.\", 'well what I find intriguing about this is the how that I am casual, easy going.']\n"
     ]
    }
   ],
   "source": [
    "tokenized_sent = sent_tokenize(doc)\n",
    "print(tokenized_sent)"
   ]
  },
  {
   "cell_type": "markdown",
   "metadata": {},
   "source": [
    "The document has been tokenized into sentences. This means that, we divided the document into **tokens** of **sentences** where a sentence ends with a **fullstop**"
   ]
  },
  {
   "cell_type": "code",
   "execution_count": null,
   "metadata": {},
   "outputs": [],
   "source": []
  },
  {
   "cell_type": "markdown",
   "metadata": {},
   "source": [
    "#### Text preprocessing"
   ]
  },
  {
   "cell_type": "markdown",
   "metadata": {},
   "source": [
    "1. Removal of special characters"
   ]
  },
  {
   "cell_type": "code",
   "execution_count": 42,
   "metadata": {},
   "outputs": [],
   "source": [
    "def regex(doc):\n",
    "    tokenize_sent = sent_tokenize(doc)\n",
    "    regex = r'[^a-zA-Z0-9\\s]'\n",
    "    text_ = [re.sub(regex, '', i) for i in tokenize_sent]\n",
    "    return text_\n",
    "\n",
    "text = regex(doc)"
   ]
  },
  {
   "cell_type": "code",
   "execution_count": 44,
   "metadata": {},
   "outputs": [
    {
     "data": {
      "text/plain": [
       "['Komolehin Israel\\nGroup 5\\n personality type The test indicates that im an Advocate',\n",
       " 'I really agree with this considering my approach to lifes situation and people',\n",
       " 'I look forward to providing solution to issues not for selfish purposes',\n",
       " 'Needful to say i can be very pragmatic in my thinking introvert inspiring and convincing\\n\\nthinking style this result shows that im more pragmatic in my thinking offering logical and approachable way to solve issues and view situations beyond theories',\n",
       " 'communicative style this result indicates that Im suppoertive and cautious but more supportive',\n",
       " 'Also I am reserved\\n\\nThinking style the test result shows that i am an OPTIMIZER',\n",
       " 'one of my approach to issues that defines me as an Advocate is concrete steps to implementing solutions which as an optimizer I adopt in my thinkingfinding ways to be more productive efficient and organized',\n",
       " 'team role test For every time I get the chance to participate in a team work I tend to discover I am able to express a good interpersonal skills and some basic soft skills yet learning',\n",
       " 'It also show that I can commuunicate effectively and resolve conflict with team mates\\n\\nteam role pie chart this chart shows that Im more of an executive and innovator characterised by my eagerness to get the work organized and done',\n",
       " 'Also as the creative generator of a team strong imagination and desire to be original defines me as an innovator also as an Advocate',\n",
       " 'zodiac This indicates that i am a jester',\n",
       " 'Im Not particularly a Joker or Jester',\n",
       " 'well what I find intriguing about this is the how that I am casual easy going']"
      ]
     },
     "execution_count": 44,
     "metadata": {},
     "output_type": "execute_result"
    }
   ],
   "source": [
    "text"
   ]
  },
  {
   "cell_type": "code",
   "execution_count": 20,
   "metadata": {},
   "outputs": [],
   "source": [
    "regex = r'[^a-zA-Z0-9\\s]'\n",
    "#re.sub(regex, '', text)\n",
    "    "
   ]
  },
  {
   "cell_type": "code",
   "execution_count": 21,
   "metadata": {},
   "outputs": [
    {
     "data": {
      "text/plain": [
       "['Komolehin Israel\\nGroup 5\\n personality type The test indicates that im an Advocate',\n",
       " 'I really agree with this considering my approach to lifes situation and people',\n",
       " 'I look forward to providing solution to issues not for selfish purposes',\n",
       " 'Needful to say i can be very pragmatic in my thinking introvert inspiring and convincing\\n\\nthinking style this result shows that im more pragmatic in my thinking offering logical and approachable way to solve issues and view situations beyond theories',\n",
       " 'communicative style this result indicates that Im suppoertive and cautious but more supportive',\n",
       " 'Also I am reserved\\n\\nThinking style the test result shows that i am an OPTIMIZER',\n",
       " 'one of my approach to issues that defines me as an Advocate is concrete steps to implementing solutions which as an optimizer I adopt in my thinkingfinding ways to be more productive efficient and organized',\n",
       " 'team role test For every time I get the chance to participate in a team work I tend to discover I am able to express a good interpersonal skills and some basic soft skills yet learning',\n",
       " 'It also show that I can commuunicate effectively and resolve conflict with team mates\\n\\nteam role pie chart this chart shows that Im more of an executive and innovator characterised by my eagerness to get the work organized and done',\n",
       " 'Also as the creative generator of a team strong imagination and desire to be original defines me as an innovator also as an Advocate',\n",
       " 'zodiac This indicates that i am a jester',\n",
       " 'Im Not particularly a Joker or Jester',\n",
       " 'well what I find intriguing about this is the how that I am casual easy going']"
      ]
     },
     "execution_count": 21,
     "metadata": {},
     "output_type": "execute_result"
    }
   ],
   "source": [
    "text_ = [re.sub(regex, '', i) for i in tokenize_sent]\n",
    "text_"
   ]
  },
  {
   "cell_type": "code",
   "execution_count": 405,
   "metadata": {},
   "outputs": [],
   "source": [
    "def text_preprocessing(text):\n",
    "    tokens = [word for sent in sent_tokenize(text) for word in word_tokenize(sent)]\n",
    "    tokens = [word.lower() for word in tokens]\n",
    "    new_tokens = [i for i in tokens if i not in stopwords.words('english')]\n",
    "    tokens = [word for word in new_tokens if len(word) >= 3]\n",
    "    stemmer = PorterStemmer()\n",
    "\n",
    "    tokens = [stemmer.stem(word) for word in tokens]\n",
    "    \n",
    "    tagged_corpus = pos_tag(tokens)\n",
    "\n",
    "    Noun_tags = ['NN', 'NNP', 'NNPS', 'NNS']\n",
    "    verb_tags = ['VB', 'VBD', 'VBG', 'VBN', 'VBP', 'VBZ']\n",
    "    lemmatizer = WordNetLemmatizer()\n",
    "    \n",
    "    def prac_lemmatize(token, tag):\n",
    "        if tag in Noun_tags:\n",
    "            return lemmatizer.lemmatize(token, 'n')\n",
    "        elif tag in verb_tags:\n",
    "            return lemmatizer.lemmatize(token, 'v')\n",
    "        else:\n",
    "            return lemmatizer.lemmatize(token, 'n')\n",
    "    lemmatized_text = ' '.join([prac_lemmatize(token, tag) for token, tag in tagged_corpus])\n",
    "    \n",
    "    return lemmatized_text "
   ]
  },
  {
   "cell_type": "code",
   "execution_count": 406,
   "metadata": {},
   "outputs": [],
   "source": [
    "final_text = np.array([text_preprocessing(i) for i in text_])"
   ]
  },
  {
   "cell_type": "code",
   "execution_count": 407,
   "metadata": {},
   "outputs": [
    {
     "data": {
      "text/plain": [
       "array(['komolehin israel group person type test indic advoc',\n",
       "       'realli agre consid approach life situat peopl',\n",
       "       'look forward provid solut issu selfish purpos',\n",
       "       'need say pragmat think introvert inspir convinc think style result show pragmat think offer logic approach way solv issu view situat beyond theori',\n",
       "       'commun style result indic suppoert cautiou support',\n",
       "       'also reserv think style test result show optim',\n",
       "       'one approach issu defin advoc concret step implement solut optim adopt thinkingfind way product effici organ',\n",
       "       'team role test everi time get chanc particip team work tend discov abl express good interperson skill basic soft skill yet learn',\n",
       "       'also show commuun effect resolv conflict team mate team role pie chart chart show execut innov characteris eager get work organ do',\n",
       "       'also creativ gener team strong imagin desir origin defin innov also advoc',\n",
       "       'zodiac indic jester', 'particularli joker jester',\n",
       "       'well find intrigu casual easi go'], dtype='<U146')"
      ]
     },
     "execution_count": 407,
     "metadata": {},
     "output_type": "execute_result"
    }
   ],
   "source": [
    "final_text"
   ]
  },
  {
   "cell_type": "code",
   "execution_count": 408,
   "metadata": {},
   "outputs": [],
   "source": [
    "vectorizer = TfidfVectorizer(strip_accents = 'unicode', norm = 'l2')"
   ]
  },
  {
   "cell_type": "code",
   "execution_count": 409,
   "metadata": {},
   "outputs": [],
   "source": [
    "matrix = vectorizer.fit_transform(final_text).todense()"
   ]
  },
  {
   "cell_type": "code",
   "execution_count": 410,
   "metadata": {},
   "outputs": [
    {
     "data": {
      "text/plain": [
       "matrix([[0.        , 0.        , 0.29424196, ..., 0.        , 0.        ,\n",
       "         0.        ],\n",
       "        [0.        , 0.        , 0.        , ..., 0.        , 0.        ,\n",
       "         0.        ],\n",
       "        [0.        , 0.        , 0.        , ..., 0.        , 0.        ,\n",
       "         0.        ],\n",
       "        ...,\n",
       "        [0.        , 0.        , 0.        , ..., 0.        , 0.        ,\n",
       "         0.65533981],\n",
       "        [0.        , 0.        , 0.        , ..., 0.        , 0.        ,\n",
       "         0.        ],\n",
       "        [0.        , 0.        , 0.        , ..., 0.        , 0.        ,\n",
       "         0.        ]])"
      ]
     },
     "execution_count": 410,
     "metadata": {},
     "output_type": "execute_result"
    }
   ],
   "source": [
    "matrix"
   ]
  },
  {
   "cell_type": "markdown",
   "metadata": {},
   "source": [
    "#### row sum"
   ]
  },
  {
   "cell_type": "code",
   "execution_count": 411,
   "metadata": {},
   "outputs": [
    {
     "data": {
      "text/plain": [
       "(13, 1)"
      ]
     },
     "execution_count": 411,
     "metadata": {},
     "output_type": "execute_result"
    }
   ],
   "source": [
    "sent_score = matrix.sum(axis=1)\n",
    "sent_score.shape"
   ]
  },
  {
   "cell_type": "code",
   "execution_count": 412,
   "metadata": {},
   "outputs": [],
   "source": [
    "sent_score_total = sent_score.sum()"
   ]
  },
  {
   "cell_type": "code",
   "execution_count": 413,
   "metadata": {},
   "outputs": [],
   "source": [
    "average = sent_score_total/sent_score.shape[0]"
   ]
  },
  {
   "cell_type": "code",
   "execution_count": 414,
   "metadata": {},
   "outputs": [],
   "source": [
    "summary = []"
   ]
  },
  {
   "cell_type": "code",
   "execution_count": 415,
   "metadata": {},
   "outputs": [],
   "source": [
    "for i in range(sent_score.shape[0]):\n",
    "    if sent_score[i] >= average:\n",
    "        summary.append(tokenize_sent[i])"
   ]
  },
  {
   "cell_type": "code",
   "execution_count": 416,
   "metadata": {},
   "outputs": [
    {
     "data": {
      "text/plain": [
       "[\"Needful to say, i can be very pragmatic in my thinking, introvert, inspiring and convincing\\n\\n#thinking style: this result shows that i'm more pragmatic in my thinking, offering logical and approachable way to solve issues and view situations beyond theories.\",\n",
       " 'one of my approach to issues that defines me as an Advocate is concrete steps to implementing solutions, which as an optimizer, I adopt in my thinking,finding ways to be more productive, efficient and organized.',\n",
       " '#team role test: For every time I get the chance to participate in a team work, I tend to discover I am able to express a good interpersonal skills and some basic soft skills, yet learning.',\n",
       " \"It also show that I can commuunicate effectively and resolve conflict with team mates\\n\\n#team role pie chart: this chart shows that I'm more of an executive and innovator characterised by my eagerness to get the work organized and done.\",\n",
       " 'Also as the creative generator of a team, strong imagination and desire to be original defines me as an innovator also as an Advocate.']"
      ]
     },
     "execution_count": 416,
     "metadata": {},
     "output_type": "execute_result"
    }
   ],
   "source": [
    "summary"
   ]
  },
  {
   "cell_type": "code",
   "execution_count": 422,
   "metadata": {},
   "outputs": [],
   "source": [
    "sum3 = ''.join(summary)"
   ]
  },
  {
   "cell_type": "code",
   "execution_count": 428,
   "metadata": {},
   "outputs": [
    {
     "ename": "TypeError",
     "evalue": "write() missing 2 required positional arguments: 'self' and 'stream'",
     "output_type": "error",
     "traceback": [
      "\u001b[0;31m---------------------------------------------------------------------------\u001b[0m",
      "\u001b[0;31mTypeError\u001b[0m                                 Traceback (most recent call last)",
      "\u001b[0;32m<ipython-input-428-b1eb2cbf42f9>\u001b[0m in \u001b[0;36m<module>\u001b[0;34m\u001b[0m\n\u001b[1;32m      1\u001b[0m \u001b[0mfile\u001b[0m \u001b[0;34m=\u001b[0m \u001b[0mopen\u001b[0m\u001b[0;34m(\u001b[0m\u001b[0;34m'summary.pdf'\u001b[0m\u001b[0;34m,\u001b[0m \u001b[0;34m'wb'\u001b[0m\u001b[0;34m)\u001b[0m\u001b[0;34m\u001b[0m\u001b[0;34m\u001b[0m\u001b[0m\n\u001b[0;32m----> 2\u001b[0;31m \u001b[0mPdfFileWriter\u001b[0m\u001b[0;34m.\u001b[0m\u001b[0mwrite\u001b[0m\u001b[0;34m(\u001b[0m\u001b[0;34m)\u001b[0m\u001b[0;34m\u001b[0m\u001b[0;34m\u001b[0m\u001b[0m\n\u001b[0m",
      "\u001b[0;31mTypeError\u001b[0m: write() missing 2 required positional arguments: 'self' and 'stream'"
     ]
    }
   ],
   "source": [
    "file = open('summary.pdf', 'wb') \n",
    "PdfFileWriter.write()"
   ]
  },
  {
   "cell_type": "code",
   "execution_count": 420,
   "metadata": {},
   "outputs": [
    {
     "name": "stdout",
     "output_type": "stream",
     "text": [
      "Help on function write in module PyPDF2.pdf:\n",
      "\n",
      "write(self, stream)\n",
      "    Writes the collection of pages added to this object out as a PDF file.\n",
      "    \n",
      "    :param stream: An object to write the file to.  The object must support\n",
      "        the write method and the tell method, similar to a file object.\n",
      "\n"
     ]
    }
   ],
   "source": [
    "help(PdfFileWriter.write)"
   ]
  },
  {
   "cell_type": "code",
   "execution_count": 331,
   "metadata": {},
   "outputs": [
    {
     "data": {
      "text/plain": [
       "1606"
      ]
     },
     "execution_count": 331,
     "metadata": {},
     "output_type": "execute_result"
    }
   ],
   "source": [
    "''.join(tokenize_sent)"
   ]
  },
  {
   "cell_type": "code",
   "execution_count": null,
   "metadata": {},
   "outputs": [],
   "source": []
  }
 ],
 "metadata": {
  "kernelspec": {
   "display_name": "Python 3",
   "language": "python",
   "name": "python3"
  },
  "language_info": {
   "codemirror_mode": {
    "name": "ipython",
    "version": 3
   },
   "file_extension": ".py",
   "mimetype": "text/x-python",
   "name": "python",
   "nbconvert_exporter": "python",
   "pygments_lexer": "ipython3",
   "version": "3.6.9"
  }
 },
 "nbformat": 4,
 "nbformat_minor": 4
}
